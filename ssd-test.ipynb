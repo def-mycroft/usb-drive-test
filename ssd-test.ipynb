{
 "cells": [
  {
   "cell_type": "markdown",
   "metadata": {},
   "source": [
    "I did some guessing/checking to find a fixed amount of data to write for each case:"
   ]
  },
  {
   "cell_type": "code",
   "execution_count": 6,
   "metadata": {},
   "outputs": [],
   "source": [
    "size = int(1073741824 * 0.15) # guess and check to get filesize suitable for test."
   ]
  },
  {
   "cell_type": "markdown",
   "metadata": {},
   "source": [
    "First, write to my laptop's hard drive, a Samsung SSD:"
   ]
  },
  {
   "cell_type": "code",
   "execution_count": 7,
   "metadata": {},
   "outputs": [],
   "source": [
    "import timeit\n",
    "\n",
    "def test():\n",
    "    with open(fp, 'wb') as f:\n",
    "        f.write(b'\\0'*size)"
   ]
  },
  {
   "cell_type": "code",
   "execution_count": 8,
   "metadata": {},
   "outputs": [
    {
     "name": "stdout",
     "output_type": "stream",
     "text": [
      "In 20 trials, the Samsung SSD took an average of 2.7027E-03 milliseconds to complete the test.\n"
     ]
    }
   ],
   "source": [
    "# write to local machine, SAMSUNG SSD CM871 M.2 2280 128GB\n",
    "fp = 'test.test'\n",
    "t = timeit.Timer(test)\n",
    "n = 20\n",
    "r = t.timeit(number=n)\n",
    "samsung_ssd = (r / n) / 1000\n",
    "\n",
    "dis = lambda x: '{:.4E} milliseconds'.format(x)\n",
    "print('In {:.0f} trials, the Samsung SSD took an average of'.format(n), dis(samsung_ssd), 'to complete the test.')"
   ]
  },
  {
   "cell_type": "markdown",
   "metadata": {},
   "source": [
    "Now, plug in the SanDisk USB drive and do the same test:"
   ]
  },
  {
   "cell_type": "code",
   "execution_count": 9,
   "metadata": {},
   "outputs": [
    {
     "name": "stdout",
     "output_type": "stream",
     "text": [
      "In 20 trials, the SanDisk SSD took an average of 8.3138E-04 milliseconds to complete the test.\n"
     ]
    }
   ],
   "source": [
    "# write to SanDisk USB drive, SanDisk Extreme SSD SCSI Disk Device\n",
    "fp = 'D:\\\\ssd-test\\\\test.test'\n",
    "t = timeit.Timer(test)\n",
    "r = t.timeit(number=n)\n",
    "sandisk_ssd = (r / n) / 1000\n",
    "\n",
    "print('In {:.0f} trials, the SanDisk SSD took an average of'.format(n), dis(sandisk_ssd), 'to complete the test.')"
   ]
  },
  {
   "cell_type": "markdown",
   "metadata": {},
   "source": [
    "And finally, into the same USB port, I plugged in a cheap 30GB thumb drive that I had around:"
   ]
  },
  {
   "cell_type": "code",
   "execution_count": 10,
   "metadata": {},
   "outputs": [
    {
     "name": "stdout",
     "output_type": "stream",
     "text": [
      "In 20 trials, the thumb drive took an average of 1.8874E-02 milliseconds to complete the test.\n"
     ]
    }
   ],
   "source": [
    "# to random USB drive\n",
    "fp = 'D:\\\\ssd-test\\\\test.test'\n",
    "t = timeit.Timer(test)\n",
    "r = t.timeit(number=n)\n",
    "thumb_drive = (r / n) / 1000\n",
    "\n",
    "print('In {:.0f} trials, the thumb drive took an average of'.format(n), dis(thumb_drive), 'to complete the test.')"
   ]
  },
  {
   "cell_type": "code",
   "execution_count": 25,
   "metadata": {},
   "outputs": [
    {
     "name": "stdout",
     "output_type": "stream",
     "text": [
      "The SanDisk was 3.25 times faster than the Samsung SSD.\n",
      "The SanDisk was 22.70 times faster than the thumb drive.\n"
     ]
    }
   ],
   "source": [
    "d = {'sandisk_ssd':sandisk_ssd, 'samsung_ssd':samsung_ssd, 'thumb_drive':thumb_drive}\n",
    "f = lambda b, bl: print('The SanDisk was {:.2f} times faster than the {:}.'.format(d[b] / d['sandisk_ssd'], bl))\n",
    "f('samsung_ssd', 'Samsung SSD')\n",
    "f('thumb_drive', 'thumb drive')"
   ]
  }
 ],
 "metadata": {
  "kernelspec": {
   "display_name": "Python 3",
   "language": "python",
   "name": "python3"
  },
  "toc": {
   "base_numbering": 1,
   "nav_menu": {},
   "number_sections": true,
   "sideBar": true,
   "skip_h1_title": false,
   "title_cell": "Table of Contents",
   "title_sidebar": "Contents",
   "toc_cell": false,
   "toc_position": {},
   "toc_section_display": true,
   "toc_window_display": false
  }
 },
 "nbformat": 4,
 "nbformat_minor": 2
}
